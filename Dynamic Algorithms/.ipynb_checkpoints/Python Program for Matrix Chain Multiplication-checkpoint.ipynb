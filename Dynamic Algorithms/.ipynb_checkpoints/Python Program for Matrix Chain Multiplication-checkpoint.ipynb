{
 "cells": [
  {
   "cell_type": "markdown",
   "metadata": {},
   "source": [
    "# Python Program for Matrix Chain Multiplication"
   ]
  },
  {
   "cell_type": "code",
   "execution_count": 114,
   "metadata": {},
   "outputs": [
    {
     "name": "stdout",
     "output_type": "stream",
     "text": [
      "Minimum number of multiplications is 7500\n",
      "((A 0A 1)A 2)"
     ]
    }
   ],
   "source": [
    "import sys \n",
    "def printParenthesis(m, j, i ):\n",
    " \n",
    "    # Displaying the parenthesis.\n",
    "    if j == i:\n",
    " \n",
    "        # The first matrix is printed as \n",
    "        # 'A', next as 'B', and so on\n",
    "        print(chr(65 + j), end = \"\")\n",
    "        return;\n",
    "    else:\n",
    "        print(\"(\", end = \"\")\n",
    " \n",
    "        # Passing (m, k, i) instead of (s, i, k)\n",
    "        printParenthesis(m, m[j][i] - 1, i)\n",
    " \n",
    "        # (m, j, k+1) instead of (s, k+1, j)\n",
    "        printParenthesis(m, j, m[j][i])\n",
    "        print (\")\", end = \"\" )  \n",
    "\n",
    "def MatrixChainOrder(arr, n):\n",
    "    p = [None for i in range (0,n+1)]\n",
    "    p[0] = arr[0][0]\n",
    "    p[n] = arr[n-1][1]\n",
    "    \n",
    "    for i in range(1,len(arr)):\n",
    "        p[i] = arr[i][0]\n",
    "    \n",
    "    m = [[0 for x in range(n)] for x in range(n)] \n",
    "    s = [[None for x in range(n)] for x in range(n)] \n",
    "\n",
    "    for i in range(0, n): \n",
    "        m[i][i] = 0\n",
    "    \n",
    "    \n",
    "    for i in range(0,n-1):\n",
    "        m[i][i+1] = (p[i]*p[i+1]*p[i+2])\n",
    "        \n",
    "\n",
    "    for L in range(2, n+1):\n",
    "        for i in range(0, n-L + 1): \n",
    "            j = i + L-1 \n",
    "#             print(i,j)\n",
    "            m[i][j] = sys.maxsize \n",
    "            for k in range(i, j):\n",
    "#                 print(\"ijk = \",i , j, k)            \n",
    "                q = m[i][k] + m[k + 1][j] + p[i]*p[k+1]*p[j+1] \n",
    "#                 print(\"q = \",q) \n",
    "                if q < m[i][j]: \n",
    "                    m[i][j] = q\n",
    "                    m[j][i] = k + 1\n",
    "    return m\n",
    "  \n",
    "\n",
    "arr = [[10,100],[100,5],[5,50]] \n",
    "# arr = [[4,10],[10,3],[3,12],[12,20],[20,7]] \n",
    "\n",
    "size = len(arr) \n",
    "m = MatrixChainOrder(arr, size)  \n",
    "print(\"Minimum number of multiplications is \" +\n",
    "       str(m[0][size-1]) ) \n",
    "printParenthesis(m, size - 1, 0)"
   ]
  },
  {
   "cell_type": "code",
   "execution_count": null,
   "metadata": {},
   "outputs": [],
   "source": []
  }
 ],
 "metadata": {
  "kernelspec": {
   "display_name": "Python 3",
   "language": "python",
   "name": "python3"
  },
  "language_info": {
   "codemirror_mode": {
    "name": "ipython",
    "version": 3
   },
   "file_extension": ".py",
   "mimetype": "text/x-python",
   "name": "python",
   "nbconvert_exporter": "python",
   "pygments_lexer": "ipython3",
   "version": "3.8.3"
  }
 },
 "nbformat": 4,
 "nbformat_minor": 4
}
