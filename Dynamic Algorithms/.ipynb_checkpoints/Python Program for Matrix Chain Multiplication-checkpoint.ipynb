{
 "cells": [
  {
   "cell_type": "markdown",
   "metadata": {},
   "source": [
    "# Python Program for Matrix Chain Multiplication"
   ]
  },
  {
   "cell_type": "code",
   "execution_count": 9,
   "metadata": {},
   "outputs": [
    {
     "name": "stdout",
     "output_type": "stream",
     "text": [
      "[[0, 0, 0, 0], [0, 0, 0, 0], [0, 0, 0, 0], [0, 0, 0, 0]]\n",
      "[[0, 0, 0, 0], [0, 0, 0, 0], [0, 0, 0, 0], [0, 0, 0, 0]]\n",
      "[[0, 0, 0, 0], [0, 0, 9223372036854775807, 0], [0, 0, 0, 0], [0, 0, 0, 0]]\n",
      "6\n",
      "[[0, 0, 0, 0], [0, 0, 6, 0], [0, 0, 0, 9223372036854775807], [0, 0, 0, 0]]\n",
      "24\n",
      "[[0, 0, 0, 0], [0, 0, 6, 9223372036854775807], [0, 0, 0, 24], [0, 0, 0, 0]]\n",
      "32\n",
      "18\n",
      "[[0, 0, 0, 0], [0, 0, 6, 18], [0, 0, 0, 24], [0, 0, 0, 0]]\n",
      "Minimum number of multiplications is 18\n"
     ]
    }
   ],
   "source": [
    "# Dynamic Programming Python implementation of Matrix \n",
    "\n",
    "import sys \n",
    "  \n",
    "# Matrix Ai has dimension p[i-1] x p[i] for i = 1..n \n",
    "def MatrixChainOrder(p, n): \n",
    "    # For simplicity of the program, one extra row and one \n",
    "    # extra column are allocated in m[][].  0th row and 0th \n",
    "    # column of m[][] are not used \n",
    "    m = [[0 for x in range(n)] for x in range(n)] \n",
    "    print(m)\n",
    "  \n",
    "    # m[i, j] = Minimum number of scalar multiplications needed \n",
    "    # to compute the matrix A[i]A[i + 1]...A[j] = A[i..j] where \n",
    "    # dimension of A[i] is p[i-1] x p[i] \n",
    "  \n",
    "    # cost is zero when multiplying one matrix. \n",
    "    for i in range(1, n): \n",
    "        m[i][i] = 0\n",
    "    print(m)\n",
    "    # L is chain length. \n",
    "    for L in range(2, n):\n",
    "#         print(L)\n",
    "        for i in range(1, n-L + 1): \n",
    "            j = i + L-1\n",
    "            m[i][j] = sys.maxsize \n",
    "            print(m)\n",
    "            for k in range(i, j): \n",
    "  \n",
    "                # q = cost / scalar multiplications \n",
    "                q = m[i][k] + m[k + 1][j] + p[i-1]*p[k]*p[j] \n",
    "                print(q)\n",
    "                if q < m[i][j]: \n",
    "                    m[i][j] = q \n",
    "    print(m)  \n",
    "    return m[1][n-1] \n",
    "  \n",
    "# Driver program to test above function \n",
    "arr = [1, 2, 3, 4] \n",
    "size = len(arr) \n",
    "  \n",
    "print(\"Minimum number of multiplications is \" +\n",
    "       str(MatrixChainOrder(arr, size))) \n"
   ]
  },
  {
   "cell_type": "code",
   "execution_count": null,
   "metadata": {},
   "outputs": [],
   "source": []
  }
 ],
 "metadata": {
  "kernelspec": {
   "display_name": "Python 3",
   "language": "python",
   "name": "python3"
  },
  "language_info": {
   "codemirror_mode": {
    "name": "ipython",
    "version": 3
   },
   "file_extension": ".py",
   "mimetype": "text/x-python",
   "name": "python",
   "nbconvert_exporter": "python",
   "pygments_lexer": "ipython3",
   "version": "3.8.3"
  }
 },
 "nbformat": 4,
 "nbformat_minor": 4
}
