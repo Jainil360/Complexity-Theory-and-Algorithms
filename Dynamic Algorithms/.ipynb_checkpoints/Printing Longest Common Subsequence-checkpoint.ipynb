{
 "cells": [
  {
   "cell_type": "markdown",
   "metadata": {},
   "source": [
    "# Printing Longest Common Subsequence"
   ]
  },
  {
   "cell_type": "markdown",
   "metadata": {},
   "source": [
    "<p><b>Method 1</b> Recursive to find length</P>"
   ]
  },
  {
   "cell_type": "code",
   "execution_count": 25,
   "metadata": {},
   "outputs": [
    {
     "name": "stdout",
     "output_type": "stream",
     "text": [
      "Length of LCS is  4\n"
     ]
    }
   ],
   "source": [
    "# A Naive recursive Python implementation of LCS problem \n",
    "\n",
    "def lcs(X, Y, m, n): \n",
    "\n",
    "    if m == 0 or n == 0: \n",
    "        return 0; \n",
    "    elif X[m-1] == Y[n-1]: \n",
    "        return 1 + lcs(X, Y, m-1, n-1); \n",
    "    else: \n",
    "        return max(lcs(X, Y, m, n-1), lcs(X, Y, m-1, n)); \n",
    "\n",
    "\n",
    "# Driver program to test the above function \n",
    "X = \"AGGTAB\"\n",
    "Y = \"GXTXAYB\"\n",
    "print (\"Length of LCS is \", lcs(X, Y, len(X), len(Y))) \n"
   ]
  },
  {
   "cell_type": "markdown",
   "metadata": {},
   "source": [
    "<p><b>Method 2</b> Iterative (Length + SubString)</P>"
   ]
  },
  {
   "cell_type": "markdown",
   "metadata": {},
   "source": [
    "<pre>\n",
    "Examples:\n",
    "LCS for input Sequences “ABCDGH” and “AEDFHR” is “ADH” of length 3.\n",
    "LCS for input Sequences “AGGTAB” and “GXTXAYB” is “GTAB” of length 4.\n",
    "\n",
    "We have discussed Longest Common Subsequence (LCS) problem in a previous post. The function discussed there was mainly to find the length of LCS. To find length of LCS, a 2D table L[][] was constructed. In this post, the function to construct and print LCS is discussed.\n",
    "\n",
    "Following is detailed algorithm to print the LCS. It uses the same 2D table L[][].\n",
    "\n",
    "1) Construct L[m+1][n+1] using the steps discussed in previous post.\n",
    "\n",
    "2) The value L[m][n] contains length of LCS. Create a character array lcs[] of length equal to the length of lcs plus 1 (one extra to store \\0).\n",
    "\n",
    "3) Traverse the 2D array starting from L[m][n]. Do following for every cell L[i][j]\n",
    "    a) If characters (in X and Y) corresponding to L[i][j] are same (Or X[i-1] == Y[j-1]), then include this character as part of LCS.\n",
    "    b) Else compare values of L[i-1][j] and L[i][j-1] and go in direction of greater value.\n",
    "</pre>"
   ]
  },
  {
   "cell_type": "code",
   "execution_count": 29,
   "metadata": {},
   "outputs": [
    {
     "name": "stdout",
     "output_type": "stream",
     "text": [
      "Length of LCS = 3\n",
      "LCS of BACDB and BDCB is BDB\n"
     ]
    }
   ],
   "source": [
    "# Dynamic programming implementation of LCS problem \n",
    "  \n",
    "def lcs(X, Y, m, n): \n",
    "    L = [[0 for x in range(n+1)] for x in range(m+1)]   \n",
    "    for i in range(m+1): \n",
    "        for j in range(n+1): \n",
    "            if i == 0 or j == 0: \n",
    "                L[i][j] = 0\n",
    "            elif X[i-1] == Y[j-1]: \n",
    "                L[i][j] = L[i-1][j-1] + 1\n",
    "            else: \n",
    "                L[i][j] = max(L[i-1][j], L[i][j-1]) \n",
    "  \n",
    "    index = L[m][n] \n",
    "    print(\"Length of LCS =\",index)\n",
    "  \n",
    "    lcs = [\"\"] * (index+1) \n",
    "    lcs[index] = \"\" \n",
    "#     print(lcs)\n",
    "\n",
    "  \n",
    "    i = m \n",
    "    j = n \n",
    "    while i > 0 and j > 0: \n",
    "        if X[i-1] == Y[j-1]: \n",
    "            lcs[index-1] = X[i-1] \n",
    "#             print(lcs)\n",
    "            i-=1\n",
    "            j-=1\n",
    "            index-=1\n",
    "        elif L[i-1][j] > L[i][j-1]: \n",
    "            i-=1\n",
    "        else: \n",
    "            j-=1\n",
    "  \n",
    "    print (\"LCS of \" + X + \" and \" + Y + \" is \" +\"\".join(lcs))  \n",
    "  \n",
    "\n",
    "X = \"BACDB\"\n",
    "Y = \"BDCB\"\n",
    "m = len(X) \n",
    "n = len(Y) \n",
    "lcs(X, Y, m, n) \n",
    "  "
   ]
  }
 ],
 "metadata": {
  "kernelspec": {
   "display_name": "Python 3",
   "language": "python",
   "name": "python3"
  },
  "language_info": {
   "codemirror_mode": {
    "name": "ipython",
    "version": 3
   },
   "file_extension": ".py",
   "mimetype": "text/x-python",
   "name": "python",
   "nbconvert_exporter": "python",
   "pygments_lexer": "ipython3",
   "version": "3.8.3"
  }
 },
 "nbformat": 4,
 "nbformat_minor": 4
}
