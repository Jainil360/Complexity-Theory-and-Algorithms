{
 "cells": [
  {
   "cell_type": "markdown",
   "metadata": {},
   "source": [
    "# 0-1 Knapsack Problem"
   ]
  },
  {
   "cell_type": "code",
   "execution_count": 30,
   "metadata": {},
   "outputs": [
    {
     "name": "stdout",
     "output_type": "stream",
     "text": [
      "Max Profit =  7\n",
      "\n",
      "Weight \t Value \t Status\n",
      "\n",
      "2 \t 3 \t 1\n",
      "3 \t 4 \t 1\n",
      "4 \t 5 \t 0\n",
      "5 \t 6 \t 0\n"
     ]
    }
   ],
   "source": [
    "def ks01(W, wt, val, n): \n",
    "    matrix = [[0 for x in range(W + 1)] for x in range(n + 1)] \n",
    "  \n",
    "    for i in range(n + 1): \n",
    "        for w in range(W + 1): \n",
    "            if i == 0 or w == 0: \n",
    "                matrix[i][w] = 0\n",
    "            elif wt[i-1] <= w: \n",
    "                matrix[i][w] = max(val[i-1] + matrix[i-1][w-wt[i-1]], matrix[i-1][w]) \n",
    "            else: \n",
    "                matrix[i][w] = matrix[i-1][w] \n",
    "    res = matrix[n][W]\n",
    "    profit = matrix[n][W] \n",
    "\n",
    "    finalList = []  \n",
    "    w = W \n",
    "    for i in range(n, 0, -1): \n",
    "        if res <= 0: \n",
    "            break\n",
    "        if res == matrix[i - 1][w]:\n",
    "            finalList.append([wt[i-1],val[i-1],0])\n",
    "            continue\n",
    "        else:\n",
    "            finalList.append([wt[i-1],val[i-1],1])\n",
    "#             print(wt[i - 1])  \n",
    "            res = res - val[i - 1] \n",
    "            w = w - wt[i - 1] \n",
    "    finalList.reverse()\n",
    "    print(\"Max Profit = \",profit)\n",
    "    print(\"\\nWeight \\t Value \\t Status\\n\")\n",
    "    for v in finalList:\n",
    "        print(v[0],\"\\t\",v[1],\"\\t\",v[2])\n",
    "\n",
    "        \n",
    "#     print(finalList)        \n",
    "    return profit\n",
    "    \n",
    "# wt = [3,4,6,5] \n",
    "# val = [2,3,1,4] \n",
    "# W = 8\n",
    "\n",
    "wt = [2,3,4,5] \n",
    "val = [3,4,5,6] \n",
    "W = 5\n",
    "\n",
    "ans = ks01(W, wt, val, len(val))\n",
    "  "
   ]
  },
  {
   "cell_type": "code",
   "execution_count": null,
   "metadata": {},
   "outputs": [],
   "source": []
  }
 ],
 "metadata": {
  "kernelspec": {
   "display_name": "Python 3",
   "language": "python",
   "name": "python3"
  },
  "language_info": {
   "codemirror_mode": {
    "name": "ipython",
    "version": 3
   },
   "file_extension": ".py",
   "mimetype": "text/x-python",
   "name": "python",
   "nbconvert_exporter": "python",
   "pygments_lexer": "ipython3",
   "version": "3.8.3"
  }
 },
 "nbformat": 4,
 "nbformat_minor": 4
}
