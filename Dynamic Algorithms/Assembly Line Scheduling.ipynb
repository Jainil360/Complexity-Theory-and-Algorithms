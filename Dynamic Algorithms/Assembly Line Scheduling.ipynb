{
 "cells": [
  {
   "cell_type": "markdown",
   "metadata": {},
   "source": [
    "   # Assembly Line Scheduling"
   ]
  },
  {
   "cell_type": "code",
   "execution_count": 54,
   "metadata": {},
   "outputs": [
    {
     "name": "stdout",
     "output_type": "stream",
     "text": [
      "[[9, 0], [18, 1], [20, 2], [24, 1], [35, 1]]\n",
      "[[12, 0], [16, 1], [22, 2], [25, 1], [30, 2]]\n",
      "\n",
      "Line :  1  Station :  5\n",
      "Line :  1  Station :  4\n",
      "Line :  1  Station :  3\n",
      "Line :  2  Station :  2\n",
      "Line :  1  Station :  1\n",
      "\n",
      "Ans =  35\n"
     ]
    }
   ],
   "source": [
    "def als (a1,a2,t1,t2,e,x,n):\n",
    "     \n",
    "    T1 = [[0,0] for i in range(n)]\n",
    "    T2 = [[0,0] for i in range(n)]\n",
    "    \n",
    "    T1[0][0] = e[0] + a1[0] \n",
    "                          \n",
    "    T2[0][0] = e[1] + a2[0] \n",
    "                          \n",
    "       \n",
    "    for i in range(1, n):\n",
    "        temp1 = T1[i-1][0] + a1[i]\n",
    "        temp2 = T2[i-1][0] + t2[i-1] + a1[i]\n",
    "        if temp1 < temp2:\n",
    "            T1[i][0] = temp1\n",
    "            T1[i][1] = 1\n",
    "        else:\n",
    "            T1[i][0] = temp2\n",
    "            T1[i][1] = 2\n",
    "\n",
    "        temp3 = T2[i-1][0] + a2[i]\n",
    "        temp4 = T1[i-1][0] + t1[i-1] + a2[i] \n",
    "        if temp3 < temp4:\n",
    "            T2[i][0] = temp3\n",
    "            T2[i][1] = 2\n",
    "        else:\n",
    "            T2[i][0] = temp4\n",
    "            T2[i][1] = 1\n",
    "        temp5 = T1[n-1][0] + x[0]\n",
    "        temp6 = T2[n-1][0] + x[1]    \n",
    "        if temp5 < temp6:\n",
    "            T1[n-1][0] = temp5\n",
    "            T1[n-1][1] = 1\n",
    "            lstar = 1\n",
    "        else:\n",
    "            T2[n-1][0] = temp6\n",
    "            T2[n-1][1] = 2\n",
    "            lstar = 2\n",
    "            \n",
    "\n",
    "    finalT = [None,None]\n",
    "    finalT[0] = T1\n",
    "    finalT[1] = T2\n",
    "    print(finalT[0])\n",
    "    print(finalT[1])\n",
    "\n",
    "    \n",
    "    i = lstar\n",
    "    print(\"\\nLine : \",lstar,\" Station : \",n)        \n",
    "    for j in range(n-1,0,-1):\n",
    "        i = finalT[i-1][j][1]\n",
    "        print(\"Line : \",i,\" Station : \",j)        \n",
    "\n",
    "        \n",
    "    return min(temp5,temp6)\n",
    " \n",
    "a1 = [7,9,3,4,8]\n",
    "a2 = [8,5,6,4,5]\n",
    "t1 = [2,3,1,3]\n",
    "t2 = [2,1,2,2]\n",
    "e = [2,4]\n",
    "x = [3,6]\n",
    " \n",
    "print(\"\\nAns = \",als(a1,a2,t1,t2, e, x,len(a1)))\n",
    "\n",
    "# By Jaynil Patel (20MCED08)"
   ]
  }
 ],
 "metadata": {
  "kernelspec": {
   "display_name": "Python 3",
   "language": "python",
   "name": "python3"
  },
  "language_info": {
   "codemirror_mode": {
    "name": "ipython",
    "version": 3
   },
   "file_extension": ".py",
   "mimetype": "text/x-python",
   "name": "python",
   "nbconvert_exporter": "python",
   "pygments_lexer": "ipython3",
   "version": "3.8.3"
  }
 },
 "nbformat": 4,
 "nbformat_minor": 4
}
