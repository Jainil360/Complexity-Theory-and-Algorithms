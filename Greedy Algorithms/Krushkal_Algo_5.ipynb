{
 "cells": [
  {
   "cell_type": "markdown",
   "metadata": {},
   "source": [
    "# Kruskal’s Minimum Spanning Tree Algorithm "
   ]
  },
  {
   "cell_type": "markdown",
   "metadata": {},
   "source": [
    "## 1. Creating the class"
   ]
  },
  {
   "cell_type": "code",
   "execution_count": 2,
   "metadata": {},
   "outputs": [],
   "source": [
    "class DisjointSet:\n",
    "    parent = {}\n",
    "    def __init__(self, N):\n",
    "        # create N disjoint sets (one for each vertex)\n",
    "        for i in range(N):\n",
    "            self.parent[i] = i #|1|2|2|2|\n",
    " \n",
    "    # Find the root of the set in which element k belongs\n",
    "    def Find(self, k):\n",
    " \n",
    "        # if k is root\n",
    "        if self.parent[k] == k:\n",
    "            return k\n",
    " \n",
    "        # recur for parent until we find root\n",
    "        return self.Find(self.parent[k])\n",
    " \n",
    "    # Perform Union of two subsets\n",
    "    def Union(self, a, b):\n",
    " \n",
    "        # find root of the sets in which elements\n",
    "        # x and y belongs\n",
    "        x = self.Find(a)\n",
    "        y = self.Find(b)\n",
    " \n",
    "        self.parent[x] = y\n",
    " \n",
    " \n",
    "# construct MST using Kruskal's algorithm\n",
    "def KruskalAlgo(edges, N):\n",
    "    # stores edges present in MST\n",
    "    MST = []\n",
    "    ds = DisjointSet(N)\n",
    "\n",
    " \n",
    "    index = 0\n",
    " \n",
    "    # MST contains exactly V-1 edges\n",
    "    while len(MST) != N - 1:\n",
    " \n",
    "        # consider next edge with minimum weight from the graph\n",
    "        (src, dest, weight) = edges[index]\n",
    "        index = index + 1\n",
    " \n",
    "        # find root of the sets to which two endpoint\n",
    "        # vertices of next_edge belongs\n",
    "        x = ds.Find(src)\n",
    "        y = ds.Find(dest)\n",
    "# [(0 1 1),(3 2 1)(1 3 2)(2 0 2)]   x,y = [(0,1)(3,2)(1,2)(2,2)]\n",
    "        # different connected components and can be included in MST\n",
    "        if x != y:\n",
    "            MST.append((src, dest, weight))\n",
    "            ds.Union(x, y)\n",
    "            #print(ds)\n",
    " \n",
    "    return MST\n",
    " \n",
    " \n"
   ]
  },
  {
   "cell_type": "markdown",
   "metadata": {},
   "source": [
    "## 2. Calling the Function"
   ]
  },
  {
   "cell_type": "code",
   "execution_count": 3,
   "metadata": {},
   "outputs": [
    {
     "name": "stdout",
     "output_type": "stream",
     "text": [
      "Press 1 to use default graph\n",
      "Press 2 to use custom graph\n",
      "2\n",
      "Enter the number of vertices = 9\n",
      "Enter the number of edges = 12\n",
      "Enter the tuple (E.g u,v,w)0 1 4\n",
      "Enter the tuple (E.g u,v,w)0 7 8\n",
      "Enter the tuple (E.g u,v,w)1 7 11\n",
      "Enter the tuple (E.g u,v,w)7 8 7\n",
      "Enter the tuple (E.g u,v,w)8 6 6\n",
      "Enter the tuple (E.g u,v,w)6 7 1\n",
      "Enter the tuple (E.g u,v,w)1 2 8\n",
      "Enter the tuple (E.g u,v,w)2 3 7\n",
      "Enter the tuple (E.g u,v,w)5 6 2\n",
      "Enter the tuple (E.g u,v,w)3 5 14\n",
      "Enter the tuple (E.g u,v,w)3 4 9\n",
      "Enter the tuple (E.g u,v,w)5 4 10\n",
      "\n",
      "Printing the Graph: \n"
     ]
    },
    {
     "data": {
      "image/png": "[encoded data removed]",
      "text/plain": [
       "<Figure size 432x288 with 1 Axes>"
      ]
     },
     "metadata": {},
     "output_type": "display_data"
    }
   ],
   "source": [
    "import networkx as nx \n",
    "G = nx.Graph() \n",
    "if __name__ == '__main__':\n",
    "    edges = []\n",
    "    N = 0 \n",
    "    choice = int(input(\"Press 1 to use default graph\\nPress 2 to use custom graph\\n\"))\n",
    "    if choice == 1:\n",
    "        \n",
    "        N = 4\n",
    "        edges = [\n",
    "#             (1, 2, 7), (1, 4, 6), (4, 2, 9), (4, 3, 8), (2, 3, 6)\n",
    "            (0, 1, 10), (0, 2, 6), (0, 3, 5), (1, 3, 15), (2, 3, 4)\n",
    "        ]\n",
    "        \n",
    "    elif choice == 2:\n",
    "        N = int(input(\"Enter the number of vertices = \"))\n",
    "        E = int(input(\"Enter the number of edges = \"))\n",
    "\n",
    "        for i in range(E):\n",
    "            inValue = input(\"Enter the tuple (E.g u,v,w)\")\n",
    "            edges.append(tuple(list(map(int, inValue.strip().split()))))\n",
    "            #print(edges)\n",
    "        \n",
    "    G.add_weighted_edges_from(edges,weight=\"weight\") \n",
    "    #nx.draw_networkx(G, with_labels = True) \n",
    "    pos=nx.spring_layout(G) # pos = nx.nx_agraph.graphviz_layout(G)\n",
    "    nx.draw_networkx(G,pos)\n",
    "    labels = nx.get_edge_attributes(G,'weight')\n",
    "    nx.draw_networkx_edge_labels(G,pos,edge_labels=labels)\n",
    "    # sort edges by increasing weight\n",
    "    edges.sort(key=lambda x: x[2])\n",
    " \n",
    "    # Number of vertices in the graph\n",
    "    mcst = 0\n",
    " \n",
    "    # construct graph\n",
    "    #print(N)\n",
    "    #print(edges)\n",
    "\n",
    "    mst = KruskalAlgo(edges, N)\n",
    "    #print(mst)\n",
    "    for u,v,w in mst:\n",
    "        mcst+=w\n",
    "        \n",
    " \n",
    "    print(\"\\nPrinting the Graph: \")\n",
    "    \n",
    "#     [(0, 1, 1), (1, 3, 2), (3, 2, 1), (2, 0, 2)]\n",
    "\n",
    "\n",
    "# 0 1 6\n",
    "# 0 2 4\n",
    "# 2 3 9\n",
    "# 2 5 2\n",
    "# 5 6 15\n",
    "# 5 7 8\n",
    "# 4 7 3\n",
    "# 1 7 10\n",
    "# 1 4 14\n",
    "# 1 2 5\n",
    "\n",
    "# 10 edges\n"
   ]
  },
  {
   "cell_type": "markdown",
   "metadata": {},
   "source": [
    "#### 3.Printing the Minimum Spanning Tree and MCST"
   ]
  },
  {
   "cell_type": "code",
   "execution_count": 4,
   "metadata": {},
   "outputs": [
    {
     "name": "stdout",
     "output_type": "stream",
     "text": [
      "Minimum Cost Spanning Tree  =  45\n"
     ]
    }
   ],
   "source": [
    "print(\"Minimum Cost Spanning Tree  = \",mcst)\n"
   ]
  },
  {
   "cell_type": "code",
   "execution_count": 5,
   "metadata": {},
   "outputs": [
    {
     "name": "stdout",
     "output_type": "stream",
     "text": [
      "\n",
      "Edges in Minimum Spanning Tree  =  [(6, 7, 1), (5, 6, 2), (0, 1, 4), (8, 6, 6), (2, 3, 7), (0, 7, 8), (1, 2, 8), (3, 4, 9)]\n"
     ]
    }
   ],
   "source": [
    "print(\"\\nEdges in Minimum Spanning Tree  = \",mst)"
   ]
  },
  {
   "cell_type": "code",
   "execution_count": 6,
   "metadata": {},
   "outputs": [
    {
     "name": "stdout",
     "output_type": "stream",
     "text": [
      "\n",
      "Printing the Minimum Spanning Tree\n",
      "\n"
     ]
    },
    {
     "data": {
      "text/plain": [
       "{(6, 7): Text(0.03043662896226515, 0.04319790850899971, '1'),\n",
       " (6, 5): Text(0.7243236867689564, 0.4798704294194641, '2'),\n",
       " (6, 8): Text(0.48609593781152205, 0.5746354560765625, '6'),\n",
       " (7, 0): Text(-0.44644915909618976, -0.4745637163927352, '8'),\n",
       " (0, 1): Text(-0.3398789010444172, -0.6494725068280692, '4'),\n",
       " (1, 2): Text(-0.15054300660839354, -0.5087553075087474, '8'),\n",
       " (2, 3): Text(-0.21178676551211684, -0.16487029537683323, '7'),\n",
       " (3, 4): Text(-0.3891037721069387, 0.1339330989310776, '9')}"
      ]
     },
     "execution_count": 6,
     "metadata": {},
     "output_type": "execute_result"
    },
    {
     "data": {
      "image/png": "[encoded data removed]",
      "text/plain": [
       "<Figure size 432x288 with 1 Axes>"
      ]
     },
     "metadata": {},
     "output_type": "display_data"
    }
   ],
   "source": [
    "mstg = nx.Graph() \n",
    "print(\"\\nPrinting the Minimum Spanning Tree\\n\")\n",
    "# print(mst)\n",
    "mstg.add_weighted_edges_from(mst,weight=\"weight\") \n",
    "#nx.draw_networkx(G, with_labels = True) \n",
    "pos=nx.spring_layout(mstg) # pos = nx.nx_agraph.graphviz_layout(G)\n",
    "nx.draw_networkx(mstg,pos)\n",
    "labels = nx.get_edge_attributes(mstg,'weight')\n",
    "nx.draw_networkx_edge_labels(mstg,pos,edge_labels=labels)"
   ]
  },
  {
   "cell_type": "code",
   "execution_count": null,
   "metadata": {},
   "outputs": [],
   "source": []
  }
 ],
 "metadata": {
  "kernelspec": {
   "display_name": "Python 3",
   "language": "python",
   "name": "python3"
  },
  "language_info": {
   "codemirror_mode": {
    "name": "ipython",
    "version": 3
   },
   "file_extension": ".py",
   "mimetype": "text/x-python",
   "name": "python",
   "nbconvert_exporter": "python",
   "pygments_lexer": "ipython3",
   "version": "3.8.3"
  }
 },
 "nbformat": 4,
 "nbformat_minor": 4
}
