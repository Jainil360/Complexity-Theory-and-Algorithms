{
 "cells": [
  {
   "cell_type": "markdown",
   "metadata": {},
   "source": [
    "# Implement making a change using greedy approach."
   ]
  },
  {
   "cell_type": "code",
   "execution_count": 1,
   "metadata": {},
   "outputs": [
    {
     "name": "stdout",
     "output_type": "stream",
     "text": [
      "Enter the value of Rs(V)93\n",
      "\n",
      "Select the denominations from below\n",
      "Press 1 for Denom = [ 1,2, 5, 10, 20, 50, 100, 500, 1000](Sorted)\n",
      "Press 2 for Denom = [2,7,10]\n",
      "Press 3 for Denom = [1000, 500, 100, 50,20,10,2,1](ReverseSorted)\n",
      "1\n",
      "\n",
      "Result....\n",
      "\n",
      "Total number of coin/notes required is = 5\n",
      "Minimal number of change for rs :  93\n",
      "50 20 20 2 1 Enter the value of Rs(V)15\n",
      "\n",
      "Select the denominations from below\n",
      "Press 1 for Denom = [ 1,2, 5, 10, 20, 50, 100, 500, 1000](Sorted)\n",
      "Press 2 for Denom = [2,7,10]\n",
      "Press 3 for Denom = [1000, 500, 100, 50,20,10,2,1](ReverseSorted)\n",
      "2\n",
      "No solution found\n",
      "Enter the value of Rs(V)56\n",
      "\n",
      "Select the denominations from below\n",
      "Press 1 for Denom = [ 1,2, 5, 10, 20, 50, 100, 500, 1000](Sorted)\n",
      "Press 2 for Denom = [2,7,10]\n",
      "Press 3 for Denom = [1000, 500, 100, 50,20,10,2,1](ReverseSorted)\n",
      "3\n",
      "\n",
      "Result....\n",
      "\n",
      "Total number of coin/notes required is = 4\n",
      "Minimal number of change for rs :  56\n",
      "50 2 2 2 "
     ]
    }
   ],
   "source": [
    " def minCoin():  \n",
    "    rs = int(input(\"Enter the value of Rs(V)\"))\n",
    "    gl_rs = rs\n",
    "    print(\"\\nSelect the denominations from below\")\n",
    "    denomCh = int(input(\"Press 1 for Denom = [ 1,2, 5, 10, 20, 50, 100, 500, 1000](Sorted)\\nPress 2 for Denom = [2,7,10]\\nPress 3 for Denom = [1000, 500, 100, 50,20,10,2,1](ReverseSorted)\\n\"))\n",
    "    if denomCh == 1:\n",
    "        denom  = [1, 2, 5, 10, 20, 50, 100, 500, 1000]\n",
    "    elif denomCh == 2:\n",
    "        denom  = [2,7,10]\n",
    "    else:\n",
    "        denom  = [1000, 500, 100, 50,20,10,2,1]\n",
    "        denom.sort()\n",
    "        # by default \n",
    "    \n",
    "    lenDenom = len(denom) \n",
    "    res_list = [] \n",
    "    i = lenDenom - 1 # starting from last (maximum) element\n",
    "    \n",
    "    while(i >= 0):  \n",
    "        while (rs >= denom[i]): \n",
    "            rs = rs - denom[i] \n",
    "            res_list.append(denom[i])\n",
    "            if(rs==0):\n",
    "                flag = 1\n",
    "            else:\n",
    "                flag = 0\n",
    "            \n",
    "        i -= 1        \n",
    "   \n",
    "    if(flag):\n",
    "        resLen = len(res_list) # Length of res list\n",
    "        print(\"\\nResult....\")\n",
    "        print(\"\\nTotal number of coin/notes required is =\",resLen)\n",
    "        print(\"Minimal number of change for rs : \",gl_rs)\n",
    "        for i in range(resLen): # Printing the result\n",
    "            print(res_list[i], end = \" \") \n",
    "    else:         \n",
    "        print(\"No solution found\")\n",
    "    \n",
    "minCoin() # calling function      \n",
    "minCoin()\n",
    "minCoin()"
   ]
  },
  {
   "cell_type": "code",
   "execution_count": null,
   "metadata": {},
   "outputs": [],
   "source": []
  }
 ],
 "metadata": {
  "kernelspec": {
   "display_name": "Python 3",
   "language": "python",
   "name": "python3"
  },
  "language_info": {
   "codemirror_mode": {
    "name": "ipython",
    "version": 3
   },
   "file_extension": ".py",
   "mimetype": "text/x-python",
   "name": "python",
   "nbconvert_exporter": "python",
   "pygments_lexer": "ipython3",
   "version": "3.8.3"
  }
 },
 "nbformat": 4,
 "nbformat_minor": 4
}
