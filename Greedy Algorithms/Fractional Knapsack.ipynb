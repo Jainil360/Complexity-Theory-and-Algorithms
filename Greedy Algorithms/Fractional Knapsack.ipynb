{
 "cells": [
  {
   "cell_type": "markdown",
   "metadata": {},
   "source": [
    "# Fractional Knapsack"
   ]
  },
  {
   "cell_type": "code",
   "execution_count": 30,
   "metadata": {},
   "outputs": [
    {
     "name": "stdout",
     "output_type": "stream",
     "text": [
      "\n",
      "Maximum Profit  =  164.0\n",
      "\n",
      "Weight\t Value \t Ratio \t Fraction\n",
      "\n",
      "30 \t 66 \t 2.2 \t 1\n",
      "10 \t 20 \t 2.0 \t 1\n",
      "20 \t 30 \t 1.5 \t 1\n",
      "50 \t 60 \t 1.2 \t 0.8\n",
      "40 \t 40 \t 1.0 \t 0\n"
     ]
    }
   ],
   "source": [
    "def FK(w,p,W):\n",
    "    values = [[0,0,0] for i in w]\n",
    "    profit =[0 for i in w]\n",
    "    x =[0 for i in w]\n",
    "\n",
    "    for i in range(0,len(w)):\n",
    "        values[i][0] = w[i]\n",
    "        values[i][1] = p[i]\n",
    "        values[i][2] = p[i] / w[i]\n",
    "        \n",
    "    values.sort(key=lambda x :x[2],reverse=True)\n",
    "#     print(values)\n",
    "    weight = 0\n",
    "    for i in range(0,len(w)):\n",
    "        if values[i][0] + weight <= W:\n",
    "            x[i] = 1\n",
    "            profit[i] = values[i][1]\n",
    "            weight = weight + values[i][0]\n",
    "        else:\n",
    "            temp = (W - weight) / values[i][0]\n",
    "            x[i] = temp\n",
    "            weight = W\n",
    "            profit[i] = temp * values[i][1]\n",
    "            break\n",
    "    print(\"\\nMaximum Profit  = \",sum(profit))        \n",
    "    print(\"\\nWeight\\t Value \\t Ratio \\t Fraction\\n\")       \n",
    "    for values,j in zip(values,x):\n",
    "        print(values[0],\"\\t\",values[1],\"\\t\",values[2],\"\\t\",j)\n",
    "\n",
    "w = [10,20,30,40,50]\n",
    "p = [20,30,66,40,60] \n",
    "W = 100\n",
    "\n",
    "FK(w,p,W)      \n",
    "\n",
    "# By Jaynil Patel (20MCED08)"
   ]
  },
  {
   "cell_type": "code",
   "execution_count": null,
   "metadata": {},
   "outputs": [],
   "source": []
  }
 ],
 "metadata": {
  "kernelspec": {
   "display_name": "Python 3",
   "language": "python",
   "name": "python3"
  },
  "language_info": {
   "codemirror_mode": {
    "name": "ipython",
    "version": 3
   },
   "file_extension": ".py",
   "mimetype": "text/x-python",
   "name": "python",
   "nbconvert_exporter": "python",
   "pygments_lexer": "ipython3",
   "version": "3.8.3"
  }
 },
 "nbformat": 4,
 "nbformat_minor": 4
}
